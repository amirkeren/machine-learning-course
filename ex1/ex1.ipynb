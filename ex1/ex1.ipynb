{
 "cells": [
  {
   "cell_type": "markdown",
   "metadata": {},
   "source": [
    "### Download and Prepare MNIST Dataset"
   ]
  },
  {
   "cell_type": "code",
   "execution_count": 1,
   "metadata": {},
   "outputs": [
    {
     "name": "stdout",
     "output_type": "stream",
     "text": [
      "Found train-labels-idx1-ubyte.gz Data\n",
      "Found train-images-idx3-ubyte.gz Data\n",
      "Found t10k-labels-idx1-ubyte.gz Data\n",
      "Found t10k-images-idx3-ubyte.gz Data\n",
      "Finished downloading and extracting MNIST, loading data...\n",
      "MNIST ready\n"
     ]
    }
   ],
   "source": [
    "from mnist_utils import prepare_mnist\n",
    "\n",
    "mnist_data = prepare_mnist('data')\n",
    "\n",
    "train_images = mnist_data[0][0]\n",
    "train_labels = mnist_data[0][1]\n",
    "test_images = mnist_data[1][0]\n",
    "test_labels = mnist_data[1][1]"
   ]
  },
  {
   "cell_type": "markdown",
   "metadata": {},
   "source": [
    "### Split to Training and Validation"
   ]
  },
  {
   "cell_type": "code",
   "execution_count": 2,
   "metadata": {
    "scrolled": false
   },
   "outputs": [
    {
     "name": "stdout",
     "output_type": "stream",
     "text": [
      "Training features: 54000\n",
      "Training labels: 54000\n",
      "Validation features: 6000\n",
      "Validation labels: 6000\n"
     ]
    }
   ],
   "source": [
    "from sklearn.model_selection import train_test_split\n",
    "\n",
    "X_train, X_val, y_train, y_val = train_test_split(train_images, \n",
    "                                                  train_labels, \n",
    "                                                  test_size=0.1, \n",
    "                                                  random_state=42)\n",
    "\n",
    "print('Training features: ' + str(len(X_train)))\n",
    "print('Training labels: ' + str(len(y_train)))\n",
    "print('Validation features: ' + str(len(X_val)))\n",
    "print('Validation labels: ' + str(len(y_val)))"
   ]
  },
  {
   "cell_type": "markdown",
   "metadata": {},
   "source": [
    "### Hyperparameters"
   ]
  },
  {
   "cell_type": "code",
   "execution_count": 3,
   "metadata": {
    "collapsed": true
   },
   "outputs": [],
   "source": [
    "epochs = 100\n",
    "batch_size = 32\n",
    "learning_rate = 3.0\n",
    "input_nodes = 28 * 28\n",
    "hidden_nodes = 30\n",
    "output_nodes = 10\n",
    "regularization = 0.001\n",
    "keep_probability = 0.75"
   ]
  },
  {
   "cell_type": "markdown",
   "metadata": {},
   "source": [
    "### Build the Network"
   ]
  },
  {
   "cell_type": "code",
   "execution_count": 4,
   "metadata": {
    "collapsed": true
   },
   "outputs": [],
   "source": [
    "from neural_network import NeuralNetwork\n",
    "from activations import Activations\n",
    "from regularizations import L2\n",
    "\n",
    "neural_network = NeuralNetwork(learning_rate)\n",
    "neural_network.add_layer(input_nodes)\n",
    "neural_network.add_layer(hidden_nodes, Activations.sigmoid, L2(regularization), keep_probability)\n",
    "neural_network.add_layer(hidden_nodes, Activations.sigmoid, L2(regularization), keep_probability)\n",
    "neural_network.add_layer(output_nodes, Activations.sigmoid, L2(regularization))"
   ]
  },
  {
   "cell_type": "markdown",
   "metadata": {},
   "source": [
    "### Train the Network"
   ]
  },
  {
   "cell_type": "code",
   "execution_count": 5,
   "metadata": {},
   "outputs": [
    {
     "name": "stdout",
     "output_type": "stream",
     "text": [
      "Progress: 0.0% ... Training loss: 19.66 ... Validation loss: 15.36\n",
      "Progress: 1.0% ... Training loss: 19.78 ... Validation loss: 15.36\n",
      "Progress: 2.0% ... Training loss: 20.01 ... Validation loss: 15.09\n",
      "Progress: 3.0% ... Training loss: 19.98 ... Validation loss: 15.06\n",
      "Progress: 4.0% ... Training loss: 19.91 ... Validation loss: 15.00\n",
      "Progress: 5.0% ... Training loss: 19.92 ... Validation loss: 14.99\n",
      "Progress: 6.0% ... Training loss: 20.05 ... Validation loss: 14.87\n",
      "Progress: 7.0% ... Training loss: 20.00 ... Validation loss: 14.97\n",
      "Progress: 8.0% ... Training loss: 19.99 ... Validation loss: 14.98\n",
      "Progress: 9.0% ... Training loss: 20.17 ... Validation loss: 14.94\n",
      "Progress: 10.0% ... Training loss: 20.22 ... Validation loss: 14.99\n",
      "Progress: 11.0% ... Training loss: 20.21 ... Validation loss: 14.96\n",
      "Progress: 12.0% ... Training loss: 20.24 ... Validation loss: 14.95\n",
      "Progress: 13.0% ... Training loss: 20.24 ... Validation loss: 14.86\n",
      "Progress: 14.0% ... Training loss: 20.12 ... Validation loss: 14.91\n",
      "Progress: 15.0% ... Training loss: 20.24 ... Validation loss: 14.84\n",
      "Progress: 16.0% ... Training loss: 20.11 ... Validation loss: 15.03\n",
      "Progress: 17.0% ... Training loss: 20.21 ... Validation loss: 15.00\n",
      "Progress: 18.0% ... Training loss: 20.14 ... Validation loss: 14.87\n",
      "Progress: 19.0% ... Training loss: 20.28 ... Validation loss: 14.97\n",
      "Progress: 20.0% ... Training loss: 20.20 ... Validation loss: 15.01\n",
      "Progress: 21.0% ... Training loss: 20.25 ... Validation loss: 14.98\n",
      "Progress: 22.0% ... Training loss: 20.11 ... Validation loss: 15.07\n",
      "Progress: 23.0% ... Training loss: 20.19 ... Validation loss: 14.98\n",
      "Progress: 24.0% ... Training loss: 20.20 ... Validation loss: 14.97\n",
      "Progress: 25.0% ... Training loss: 20.14 ... Validation loss: 15.02\n",
      "Progress: 26.0% ... Training loss: 20.21 ... Validation loss: 14.99\n",
      "Progress: 27.0% ... Training loss: 20.18 ... Validation loss: 14.96\n",
      "Progress: 28.0% ... Training loss: 20.27 ... Validation loss: 14.92\n",
      "Progress: 29.0% ... Training loss: 20.20 ... Validation loss: 14.99\n",
      "Progress: 30.0% ... Training loss: 20.22 ... Validation loss: 14.98\n",
      "Progress: 31.0% ... Training loss: 20.22 ... Validation loss: 14.98\n",
      "Progress: 32.0% ... Training loss: 20.22 ... Validation loss: 14.95\n",
      "Progress: 33.0% ... Training loss: 20.28 ... Validation loss: 14.94\n",
      "Progress: 34.0% ... Training loss: 20.29 ... Validation loss: 14.85\n",
      "Progress: 35.0% ... Training loss: 20.27 ... Validation loss: 14.88\n",
      "Progress: 36.0% ... Training loss: 20.30 ... Validation loss: 14.87\n",
      "Progress: 37.0% ... Training loss: 20.30 ... Validation loss: 14.90\n",
      "Progress: 38.0% ... Training loss: 20.23 ... Validation loss: 14.86\n",
      "Progress: 39.0% ... Training loss: 20.31 ... Validation loss: 14.85\n",
      "Progress: 40.0% ... Training loss: 20.26 ... Validation loss: 14.87\n",
      "Progress: 41.0% ... Training loss: 20.26 ... Validation loss: 14.82\n",
      "Progress: 42.0% ... Training loss: 20.25 ... Validation loss: 14.78\n",
      "Progress: 43.0% ... Training loss: 20.30 ... Validation loss: 14.83\n",
      "Progress: 44.0% ... Training loss: 20.26 ... Validation loss: 14.86\n",
      "Progress: 45.0% ... Training loss: 20.19 ... Validation loss: 14.89\n",
      "Progress: 46.0% ... Training loss: 20.17 ... Validation loss: 14.89\n",
      "Progress: 47.0% ... Training loss: 20.21 ... Validation loss: 14.89\n",
      "Progress: 48.0% ... Training loss: 20.29 ... Validation loss: 14.90\n",
      "Progress: 49.0% ... Training loss: 20.24 ... Validation loss: 14.79\n",
      "Progress: 50.0% ... Training loss: 20.23 ... Validation loss: 14.77\n",
      "Progress: 51.0% ... Training loss: 20.13 ... Validation loss: 14.80\n",
      "Progress: 52.0% ... Training loss: 20.26 ... Validation loss: 14.84\n",
      "Progress: 53.0% ... Training loss: 20.29 ... Validation loss: 14.86\n",
      "Progress: 54.0% ... Training loss: 20.27 ... Validation loss: 14.82\n",
      "Progress: 55.0% ... Training loss: 20.27 ... Validation loss: 14.87\n",
      "Progress: 56.0% ... Training loss: 20.27 ... Validation loss: 14.83\n",
      "Progress: 57.0% ... Training loss: 20.26 ... Validation loss: 14.74\n",
      "Progress: 58.0% ... Training loss: 20.24 ... Validation loss: 14.88\n",
      "Progress: 59.0% ... Training loss: 20.30 ... Validation loss: 14.86\n",
      "Progress: 60.0% ... Training loss: 20.24 ... Validation loss: 14.83\n",
      "Progress: 61.0% ... Training loss: 20.29 ... Validation loss: 14.85\n",
      "Progress: 62.0% ... Training loss: 20.24 ... Validation loss: 14.81\n",
      "Progress: 63.0% ... Training loss: 20.18 ... Validation loss: 14.82\n",
      "Progress: 64.0% ... Training loss: 20.23 ... Validation loss: 14.84\n",
      "Progress: 65.0% ... Training loss: 20.26 ... Validation loss: 14.81\n",
      "Progress: 66.0% ... Training loss: 20.22 ... Validation loss: 14.83\n",
      "Progress: 67.0% ... Training loss: 20.24 ... Validation loss: 14.81\n",
      "Progress: 68.0% ... Training loss: 20.26 ... Validation loss: 14.74\n",
      "Progress: 69.0% ... Training loss: 20.31 ... Validation loss: 14.81\n",
      "Progress: 70.0% ... Training loss: 20.27 ... Validation loss: 14.88\n",
      "Progress: 71.0% ... Training loss: 20.26 ... Validation loss: 14.77\n",
      "Progress: 72.0% ... Training loss: 20.21 ... Validation loss: 14.80\n",
      "Progress: 73.0% ... Training loss: 20.25 ... Validation loss: 14.89\n",
      "Progress: 74.0% ... Training loss: 20.27 ... Validation loss: 14.83\n",
      "Progress: 75.0% ... Training loss: 20.25 ... Validation loss: 14.84\n",
      "Progress: 76.0% ... Training loss: 20.25 ... Validation loss: 14.83\n",
      "Progress: 77.0% ... Training loss: 20.23 ... Validation loss: 14.87\n",
      "Progress: 78.0% ... Training loss: 20.18 ... Validation loss: 14.85\n",
      "Progress: 79.0% ... Training loss: 20.23 ... Validation loss: 14.82\n",
      "Progress: 80.0% ... Training loss: 20.19 ... Validation loss: 14.84\n",
      "Progress: 81.0% ... Training loss: 20.20 ... Validation loss: 14.80\n",
      "Progress: 82.0% ... Training loss: 20.25 ... Validation loss: 14.82\n",
      "Progress: 83.0% ... Training loss: 20.25 ... Validation loss: 14.80\n",
      "Progress: 84.0% ... Training loss: 20.21 ... Validation loss: 14.85\n",
      "Progress: 85.0% ... Training loss: 20.34 ... Validation loss: 14.81\n",
      "Progress: 86.0% ... Training loss: 20.19 ... Validation loss: 14.82\n",
      "Progress: 87.0% ... Training loss: 20.21 ... Validation loss: 14.83\n",
      "Progress: 88.0% ... Training loss: 20.42 ... Validation loss: 14.82\n",
      "Progress: 89.0% ... Training loss: 20.22 ... Validation loss: 14.84\n",
      "Progress: 90.0% ... Training loss: 20.19 ... Validation loss: 14.87\n",
      "Progress: 91.0% ... Training loss: 20.15 ... Validation loss: 14.92\n",
      "Progress: 92.0% ... Training loss: 20.24 ... Validation loss: 14.80\n",
      "Progress: 93.0% ... Training loss: 20.18 ... Validation loss: 14.84\n",
      "Progress: 94.0% ... Training loss: 20.18 ... Validation loss: 14.83\n",
      "Progress: 95.0% ... Training loss: 20.16 ... Validation loss: 14.91\n",
      "Progress: 96.0% ... Training loss: 20.26 ... Validation loss: 14.88\n",
      "Progress: 97.0% ... Training loss: 20.24 ... Validation loss: 14.84\n",
      "Progress: 98.0% ... Training loss: 20.22 ... Validation loss: 14.86\n",
      "Progress: 99.0% ... Training loss: 20.16 ... Validation loss: 14.73\n"
     ]
    }
   ],
   "source": [
    "import sys\n",
    "\n",
    "import numpy as np\n",
    "\n",
    "from helper import get_batch, mean_squared_error\n",
    "\n",
    "losses = { 'train': [], 'validation': [] }\n",
    "\n",
    "for epoch in range(epochs):\n",
    "    n_batches = len(X_train) / batch_size\n",
    "    for batch_i in range(n_batches):\n",
    "        X, y = get_batch(X_train, y_train, batch_i, batch_size)\n",
    "        neural_network.train(X, y)\n",
    "    train_results = np.asarray([np.argmax(neural_network.predict(x)) for x in X_train])\n",
    "    train_loss = mean_squared_error(train_results, np.argmax(y_train))\n",
    "    val_results = np.asarray([np.argmax(neural_network.predict(x)) for x in X_val])\n",
    "    val_loss = mean_squared_error(val_results, np.argmax(y_val))\n",
    "    sys.stdout.write(\"Progress: {:2.1f}\".format(100 * epoch / float(epochs)) \\\n",
    "                     + \"% ... Training loss: \" + str(train_loss)[:5] \\\n",
    "                     + \" ... Validation loss: \" + str(val_loss)[:5] + '\\n')\n",
    "    sys.stdout.flush()\n",
    "    losses['train'].append(train_loss)\n",
    "    losses['validation'].append(val_loss)"
   ]
  },
  {
   "cell_type": "code",
   "execution_count": 6,
   "metadata": {},
   "outputs": [
    {
     "data": {
      "image/png": "[encoded data removed]",
      "text/plain": [
       "<matplotlib.figure.Figure at 0x10692d110>"
      ]
     },
     "metadata": {
      "image/png": {
       "height": 250,
       "width": 370
      }
     },
     "output_type": "display_data"
    }
   ],
   "source": [
    "%matplotlib inline\n",
    "%config InlineBackend.figure_format = 'retina'\n",
    "\n",
    "import matplotlib.pyplot as plt\n",
    "\n",
    "plt.plot(losses['train'], label='Training loss')\n",
    "plt.plot(losses['validation'], label='Validation loss')\n",
    "plt.legend()\n",
    "_ = plt.ylim()"
   ]
  },
  {
   "cell_type": "markdown",
   "metadata": {},
   "source": [
    "### Test the Network"
   ]
  },
  {
   "cell_type": "code",
   "execution_count": 7,
   "metadata": {},
   "outputs": [
    {
     "name": "stdout",
     "output_type": "stream",
     "text": [
      "Test accuracy: 94.0%"
     ]
    }
   ],
   "source": [
    "import sys\n",
    "\n",
    "import numpy as np\n",
    "\n",
    "network_predictions = [np.argmax(neural_network.predict(x)) for x in test_images]\n",
    "correct_predictions = sum(int(x == y) for x, y in zip(network_predictions, test_labels))\n",
    "sys.stdout.write(\"Test accuracy: {:2.1f}\"\n",
    "                 .format(100 * correct_predictions / float(len(test_images))) + \"%\")\n",
    "sys.stdout.flush()"
   ]
  }
 ],
 "metadata": {
  "kernelspec": {
   "display_name": "Python 2",
   "language": "python",
   "name": "python2"
  },
  "language_info": {
   "codemirror_mode": {
    "name": "ipython",
    "version": 2
   },
   "file_extension": ".py",
   "mimetype": "text/x-python",
   "name": "python",
   "nbconvert_exporter": "python",
   "pygments_lexer": "ipython2",
   "version": "2.7.14"
  }
 },
 "nbformat": 4,
 "nbformat_minor": 2
}
